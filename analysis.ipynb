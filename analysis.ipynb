{
 "cells": [
  {
   "cell_type": "markdown",
   "metadata": {},
   "source": [
    "# Analysis"
   ]
  },
  {
   "cell_type": "code",
   "execution_count": 1,
   "metadata": {
    "collapsed": true
   },
   "outputs": [],
   "source": [
    "%matplotlib inline\n",
    "import pandas as pd\n",
    "import numpy as np\n",
    "import matplotlib.pyplot as plt\n",
    "\n",
    "from sklearn import preprocessing"
   ]
  },
  {
   "cell_type": "code",
   "execution_count": 2,
   "metadata": {
    "collapsed": true
   },
   "outputs": [],
   "source": [
    "data = pd.read_csv('data/train.csv', index_col='PassengerId')\n",
    "dataset = data.copy()"
   ]
  },
  {
   "cell_type": "markdown",
   "metadata": {},
   "source": [
    "## General overview"
   ]
  },
  {
   "cell_type": "code",
   "execution_count": 3,
   "metadata": {},
   "outputs": [
    {
     "data": {
      "text/html": [
       "<div>\n",
       "<style>\n",
       "    .dataframe thead tr:only-child th {\n",
       "        text-align: right;\n",
       "    }\n",
       "\n",
       "    .dataframe thead th {\n",
       "        text-align: left;\n",
       "    }\n",
       "\n",
       "    .dataframe tbody tr th {\n",
       "        vertical-align: top;\n",
       "    }\n",
       "</style>\n",
       "<table border=\"1\" class=\"dataframe\">\n",
       "  <thead>\n",
       "    <tr style=\"text-align: right;\">\n",
       "      <th></th>\n",
       "      <th>Survived</th>\n",
       "      <th>Pclass</th>\n",
       "      <th>Name</th>\n",
       "      <th>Sex</th>\n",
       "      <th>Age</th>\n",
       "      <th>SibSp</th>\n",
       "      <th>Parch</th>\n",
       "      <th>Ticket</th>\n",
       "      <th>Fare</th>\n",
       "      <th>Cabin</th>\n",
       "      <th>Embarked</th>\n",
       "    </tr>\n",
       "    <tr>\n",
       "      <th>PassengerId</th>\n",
       "      <th></th>\n",
       "      <th></th>\n",
       "      <th></th>\n",
       "      <th></th>\n",
       "      <th></th>\n",
       "      <th></th>\n",
       "      <th></th>\n",
       "      <th></th>\n",
       "      <th></th>\n",
       "      <th></th>\n",
       "      <th></th>\n",
       "    </tr>\n",
       "  </thead>\n",
       "  <tbody>\n",
       "    <tr>\n",
       "      <th>1</th>\n",
       "      <td>0</td>\n",
       "      <td>3</td>\n",
       "      <td>Braund, Mr. Owen Harris</td>\n",
       "      <td>male</td>\n",
       "      <td>22.0</td>\n",
       "      <td>1</td>\n",
       "      <td>0</td>\n",
       "      <td>A/5 21171</td>\n",
       "      <td>7.2500</td>\n",
       "      <td>NaN</td>\n",
       "      <td>S</td>\n",
       "    </tr>\n",
       "    <tr>\n",
       "      <th>2</th>\n",
       "      <td>1</td>\n",
       "      <td>1</td>\n",
       "      <td>Cumings, Mrs. John Bradley (Florence Briggs Th...</td>\n",
       "      <td>female</td>\n",
       "      <td>38.0</td>\n",
       "      <td>1</td>\n",
       "      <td>0</td>\n",
       "      <td>PC 17599</td>\n",
       "      <td>71.2833</td>\n",
       "      <td>C85</td>\n",
       "      <td>C</td>\n",
       "    </tr>\n",
       "    <tr>\n",
       "      <th>3</th>\n",
       "      <td>1</td>\n",
       "      <td>3</td>\n",
       "      <td>Heikkinen, Miss. Laina</td>\n",
       "      <td>female</td>\n",
       "      <td>26.0</td>\n",
       "      <td>0</td>\n",
       "      <td>0</td>\n",
       "      <td>STON/O2. 3101282</td>\n",
       "      <td>7.9250</td>\n",
       "      <td>NaN</td>\n",
       "      <td>S</td>\n",
       "    </tr>\n",
       "    <tr>\n",
       "      <th>4</th>\n",
       "      <td>1</td>\n",
       "      <td>1</td>\n",
       "      <td>Futrelle, Mrs. Jacques Heath (Lily May Peel)</td>\n",
       "      <td>female</td>\n",
       "      <td>35.0</td>\n",
       "      <td>1</td>\n",
       "      <td>0</td>\n",
       "      <td>113803</td>\n",
       "      <td>53.1000</td>\n",
       "      <td>C123</td>\n",
       "      <td>S</td>\n",
       "    </tr>\n",
       "    <tr>\n",
       "      <th>5</th>\n",
       "      <td>0</td>\n",
       "      <td>3</td>\n",
       "      <td>Allen, Mr. William Henry</td>\n",
       "      <td>male</td>\n",
       "      <td>35.0</td>\n",
       "      <td>0</td>\n",
       "      <td>0</td>\n",
       "      <td>373450</td>\n",
       "      <td>8.0500</td>\n",
       "      <td>NaN</td>\n",
       "      <td>S</td>\n",
       "    </tr>\n",
       "    <tr>\n",
       "      <th>6</th>\n",
       "      <td>0</td>\n",
       "      <td>3</td>\n",
       "      <td>Moran, Mr. James</td>\n",
       "      <td>male</td>\n",
       "      <td>NaN</td>\n",
       "      <td>0</td>\n",
       "      <td>0</td>\n",
       "      <td>330877</td>\n",
       "      <td>8.4583</td>\n",
       "      <td>NaN</td>\n",
       "      <td>Q</td>\n",
       "    </tr>\n",
       "    <tr>\n",
       "      <th>7</th>\n",
       "      <td>0</td>\n",
       "      <td>1</td>\n",
       "      <td>McCarthy, Mr. Timothy J</td>\n",
       "      <td>male</td>\n",
       "      <td>54.0</td>\n",
       "      <td>0</td>\n",
       "      <td>0</td>\n",
       "      <td>17463</td>\n",
       "      <td>51.8625</td>\n",
       "      <td>E46</td>\n",
       "      <td>S</td>\n",
       "    </tr>\n",
       "    <tr>\n",
       "      <th>8</th>\n",
       "      <td>0</td>\n",
       "      <td>3</td>\n",
       "      <td>Palsson, Master. Gosta Leonard</td>\n",
       "      <td>male</td>\n",
       "      <td>2.0</td>\n",
       "      <td>3</td>\n",
       "      <td>1</td>\n",
       "      <td>349909</td>\n",
       "      <td>21.0750</td>\n",
       "      <td>NaN</td>\n",
       "      <td>S</td>\n",
       "    </tr>\n",
       "    <tr>\n",
       "      <th>9</th>\n",
       "      <td>1</td>\n",
       "      <td>3</td>\n",
       "      <td>Johnson, Mrs. Oscar W (Elisabeth Vilhelmina Berg)</td>\n",
       "      <td>female</td>\n",
       "      <td>27.0</td>\n",
       "      <td>0</td>\n",
       "      <td>2</td>\n",
       "      <td>347742</td>\n",
       "      <td>11.1333</td>\n",
       "      <td>NaN</td>\n",
       "      <td>S</td>\n",
       "    </tr>\n",
       "    <tr>\n",
       "      <th>10</th>\n",
       "      <td>1</td>\n",
       "      <td>2</td>\n",
       "      <td>Nasser, Mrs. Nicholas (Adele Achem)</td>\n",
       "      <td>female</td>\n",
       "      <td>14.0</td>\n",
       "      <td>1</td>\n",
       "      <td>0</td>\n",
       "      <td>237736</td>\n",
       "      <td>30.0708</td>\n",
       "      <td>NaN</td>\n",
       "      <td>C</td>\n",
       "    </tr>\n",
       "  </tbody>\n",
       "</table>\n",
       "</div>"
      ],
      "text/plain": [
       "             Survived  Pclass  \\\n",
       "PassengerId                     \n",
       "1                   0       3   \n",
       "2                   1       1   \n",
       "3                   1       3   \n",
       "4                   1       1   \n",
       "5                   0       3   \n",
       "6                   0       3   \n",
       "7                   0       1   \n",
       "8                   0       3   \n",
       "9                   1       3   \n",
       "10                  1       2   \n",
       "\n",
       "                                                          Name     Sex   Age  \\\n",
       "PassengerId                                                                    \n",
       "1                                      Braund, Mr. Owen Harris    male  22.0   \n",
       "2            Cumings, Mrs. John Bradley (Florence Briggs Th...  female  38.0   \n",
       "3                                       Heikkinen, Miss. Laina  female  26.0   \n",
       "4                 Futrelle, Mrs. Jacques Heath (Lily May Peel)  female  35.0   \n",
       "5                                     Allen, Mr. William Henry    male  35.0   \n",
       "6                                             Moran, Mr. James    male   NaN   \n",
       "7                                      McCarthy, Mr. Timothy J    male  54.0   \n",
       "8                               Palsson, Master. Gosta Leonard    male   2.0   \n",
       "9            Johnson, Mrs. Oscar W (Elisabeth Vilhelmina Berg)  female  27.0   \n",
       "10                         Nasser, Mrs. Nicholas (Adele Achem)  female  14.0   \n",
       "\n",
       "             SibSp  Parch            Ticket     Fare Cabin Embarked  \n",
       "PassengerId                                                          \n",
       "1                1      0         A/5 21171   7.2500   NaN        S  \n",
       "2                1      0          PC 17599  71.2833   C85        C  \n",
       "3                0      0  STON/O2. 3101282   7.9250   NaN        S  \n",
       "4                1      0            113803  53.1000  C123        S  \n",
       "5                0      0            373450   8.0500   NaN        S  \n",
       "6                0      0            330877   8.4583   NaN        Q  \n",
       "7                0      0             17463  51.8625   E46        S  \n",
       "8                3      1            349909  21.0750   NaN        S  \n",
       "9                0      2            347742  11.1333   NaN        S  \n",
       "10               1      0            237736  30.0708   NaN        C  "
      ]
     },
     "execution_count": 3,
     "metadata": {},
     "output_type": "execute_result"
    }
   ],
   "source": [
    "dataset.head(10)"
   ]
  },
  {
   "cell_type": "markdown",
   "metadata": {},
   "source": [
    "We have 11 columns (excluding the index column, *PassengerId*). 6 of them are numerical as we can see in the following summary: "
   ]
  },
  {
   "cell_type": "code",
   "execution_count": 4,
   "metadata": {},
   "outputs": [
    {
     "data": {
      "text/html": [
       "<div>\n",
       "<style>\n",
       "    .dataframe thead tr:only-child th {\n",
       "        text-align: right;\n",
       "    }\n",
       "\n",
       "    .dataframe thead th {\n",
       "        text-align: left;\n",
       "    }\n",
       "\n",
       "    .dataframe tbody tr th {\n",
       "        vertical-align: top;\n",
       "    }\n",
       "</style>\n",
       "<table border=\"1\" class=\"dataframe\">\n",
       "  <thead>\n",
       "    <tr style=\"text-align: right;\">\n",
       "      <th></th>\n",
       "      <th>Survived</th>\n",
       "      <th>Pclass</th>\n",
       "      <th>Age</th>\n",
       "      <th>SibSp</th>\n",
       "      <th>Parch</th>\n",
       "      <th>Fare</th>\n",
       "    </tr>\n",
       "  </thead>\n",
       "  <tbody>\n",
       "    <tr>\n",
       "      <th>count</th>\n",
       "      <td>891.000000</td>\n",
       "      <td>891.000000</td>\n",
       "      <td>714.000000</td>\n",
       "      <td>891.000000</td>\n",
       "      <td>891.000000</td>\n",
       "      <td>891.000000</td>\n",
       "    </tr>\n",
       "    <tr>\n",
       "      <th>mean</th>\n",
       "      <td>0.383838</td>\n",
       "      <td>2.308642</td>\n",
       "      <td>29.699118</td>\n",
       "      <td>0.523008</td>\n",
       "      <td>0.381594</td>\n",
       "      <td>32.204208</td>\n",
       "    </tr>\n",
       "    <tr>\n",
       "      <th>std</th>\n",
       "      <td>0.486592</td>\n",
       "      <td>0.836071</td>\n",
       "      <td>14.526497</td>\n",
       "      <td>1.102743</td>\n",
       "      <td>0.806057</td>\n",
       "      <td>49.693429</td>\n",
       "    </tr>\n",
       "    <tr>\n",
       "      <th>min</th>\n",
       "      <td>0.000000</td>\n",
       "      <td>1.000000</td>\n",
       "      <td>0.420000</td>\n",
       "      <td>0.000000</td>\n",
       "      <td>0.000000</td>\n",
       "      <td>0.000000</td>\n",
       "    </tr>\n",
       "    <tr>\n",
       "      <th>25%</th>\n",
       "      <td>0.000000</td>\n",
       "      <td>2.000000</td>\n",
       "      <td>20.125000</td>\n",
       "      <td>0.000000</td>\n",
       "      <td>0.000000</td>\n",
       "      <td>7.910400</td>\n",
       "    </tr>\n",
       "    <tr>\n",
       "      <th>50%</th>\n",
       "      <td>0.000000</td>\n",
       "      <td>3.000000</td>\n",
       "      <td>28.000000</td>\n",
       "      <td>0.000000</td>\n",
       "      <td>0.000000</td>\n",
       "      <td>14.454200</td>\n",
       "    </tr>\n",
       "    <tr>\n",
       "      <th>75%</th>\n",
       "      <td>1.000000</td>\n",
       "      <td>3.000000</td>\n",
       "      <td>38.000000</td>\n",
       "      <td>1.000000</td>\n",
       "      <td>0.000000</td>\n",
       "      <td>31.000000</td>\n",
       "    </tr>\n",
       "    <tr>\n",
       "      <th>max</th>\n",
       "      <td>1.000000</td>\n",
       "      <td>3.000000</td>\n",
       "      <td>80.000000</td>\n",
       "      <td>8.000000</td>\n",
       "      <td>6.000000</td>\n",
       "      <td>512.329200</td>\n",
       "    </tr>\n",
       "  </tbody>\n",
       "</table>\n",
       "</div>"
      ],
      "text/plain": [
       "         Survived      Pclass         Age       SibSp       Parch        Fare\n",
       "count  891.000000  891.000000  714.000000  891.000000  891.000000  891.000000\n",
       "mean     0.383838    2.308642   29.699118    0.523008    0.381594   32.204208\n",
       "std      0.486592    0.836071   14.526497    1.102743    0.806057   49.693429\n",
       "min      0.000000    1.000000    0.420000    0.000000    0.000000    0.000000\n",
       "25%      0.000000    2.000000   20.125000    0.000000    0.000000    7.910400\n",
       "50%      0.000000    3.000000   28.000000    0.000000    0.000000   14.454200\n",
       "75%      1.000000    3.000000   38.000000    1.000000    0.000000   31.000000\n",
       "max      1.000000    3.000000   80.000000    8.000000    6.000000  512.329200"
      ]
     },
     "execution_count": 4,
     "metadata": {},
     "output_type": "execute_result"
    }
   ],
   "source": [
    "dataset.describe()"
   ]
  },
  {
   "cell_type": "markdown",
   "metadata": {},
   "source": [
    "The 5 others are of class type."
   ]
  },
  {
   "cell_type": "code",
   "execution_count": 5,
   "metadata": {},
   "outputs": [
    {
     "data": {
      "text/plain": [
       "Index(['Survived', 'Pclass', 'Name', 'Sex', 'Age', 'SibSp', 'Parch', 'Ticket',\n",
       "       'Fare', 'Cabin', 'Embarked'],\n",
       "      dtype='object')"
      ]
     },
     "execution_count": 5,
     "metadata": {},
     "output_type": "execute_result"
    }
   ],
   "source": [
    "dataset.columns"
   ]
  },
  {
   "cell_type": "markdown",
   "metadata": {},
   "source": [
    "We will process those fields to have only categorical data at the end. This will allow us to group similar slices of numerical features into more relevant features, and reduce the total number of degrees of freedom to ensure better reproductibility (often called generalization)."
   ]
  },
  {
   "cell_type": "markdown",
   "metadata": {},
   "source": [
    "## Exploring and Pre-processing the data"
   ]
  },
  {
   "cell_type": "markdown",
   "metadata": {},
   "source": [
    "### Cabin (plus Ticket and Pclass)"
   ]
  },
  {
   "cell_type": "markdown",
   "metadata": {},
   "source": [
    "We need to format some inputs such as the *Cabin* which have a lot of 'NaN', and may have a not straightforward enough input as shown here:"
   ]
  },
  {
   "cell_type": "code",
   "execution_count": 6,
   "metadata": {},
   "outputs": [
    {
     "data": {
      "text/html": [
       "<div>\n",
       "<style>\n",
       "    .dataframe thead tr:only-child th {\n",
       "        text-align: right;\n",
       "    }\n",
       "\n",
       "    .dataframe thead th {\n",
       "        text-align: left;\n",
       "    }\n",
       "\n",
       "    .dataframe tbody tr th {\n",
       "        vertical-align: top;\n",
       "    }\n",
       "</style>\n",
       "<table border=\"1\" class=\"dataframe\">\n",
       "  <thead>\n",
       "    <tr style=\"text-align: right;\">\n",
       "      <th></th>\n",
       "      <th>Survived</th>\n",
       "      <th>Pclass</th>\n",
       "      <th>Name</th>\n",
       "      <th>Sex</th>\n",
       "      <th>Age</th>\n",
       "      <th>SibSp</th>\n",
       "      <th>Parch</th>\n",
       "      <th>Ticket</th>\n",
       "      <th>Fare</th>\n",
       "      <th>Cabin</th>\n",
       "      <th>Embarked</th>\n",
       "    </tr>\n",
       "    <tr>\n",
       "      <th>PassengerId</th>\n",
       "      <th></th>\n",
       "      <th></th>\n",
       "      <th></th>\n",
       "      <th></th>\n",
       "      <th></th>\n",
       "      <th></th>\n",
       "      <th></th>\n",
       "      <th></th>\n",
       "      <th></th>\n",
       "      <th></th>\n",
       "      <th></th>\n",
       "    </tr>\n",
       "  </thead>\n",
       "  <tbody>\n",
       "    <tr>\n",
       "      <th>28</th>\n",
       "      <td>0</td>\n",
       "      <td>1</td>\n",
       "      <td>Fortune, Mr. Charles Alexander</td>\n",
       "      <td>male</td>\n",
       "      <td>19.0</td>\n",
       "      <td>3</td>\n",
       "      <td>2</td>\n",
       "      <td>19950</td>\n",
       "      <td>263.0</td>\n",
       "      <td>C23 C25 C27</td>\n",
       "      <td>S</td>\n",
       "    </tr>\n",
       "  </tbody>\n",
       "</table>\n",
       "</div>"
      ],
      "text/plain": [
       "             Survived  Pclass                            Name   Sex   Age  \\\n",
       "PassengerId                                                                 \n",
       "28                  0       1  Fortune, Mr. Charles Alexander  male  19.0   \n",
       "\n",
       "             SibSp  Parch Ticket   Fare        Cabin Embarked  \n",
       "PassengerId                                                    \n",
       "28               3      2  19950  263.0  C23 C25 C27        S  "
      ]
     },
     "execution_count": 6,
     "metadata": {},
     "output_type": "execute_result"
    }
   ],
   "source": [
    "dataset[27:28]"
   ]
  },
  {
   "cell_type": "markdown",
   "metadata": {},
   "source": [
    "When a family booked *Cabins*, all the booked *Cabins* are recorded for each family member:"
   ]
  },
  {
   "cell_type": "code",
   "execution_count": 7,
   "metadata": {},
   "outputs": [
    {
     "data": {
      "text/html": [
       "<div>\n",
       "<style>\n",
       "    .dataframe thead tr:only-child th {\n",
       "        text-align: right;\n",
       "    }\n",
       "\n",
       "    .dataframe thead th {\n",
       "        text-align: left;\n",
       "    }\n",
       "\n",
       "    .dataframe tbody tr th {\n",
       "        vertical-align: top;\n",
       "    }\n",
       "</style>\n",
       "<table border=\"1\" class=\"dataframe\">\n",
       "  <thead>\n",
       "    <tr style=\"text-align: right;\">\n",
       "      <th></th>\n",
       "      <th>Survived</th>\n",
       "      <th>Pclass</th>\n",
       "      <th>Name</th>\n",
       "      <th>Sex</th>\n",
       "      <th>Age</th>\n",
       "      <th>SibSp</th>\n",
       "      <th>Parch</th>\n",
       "      <th>Ticket</th>\n",
       "      <th>Fare</th>\n",
       "      <th>Cabin</th>\n",
       "      <th>Embarked</th>\n",
       "    </tr>\n",
       "    <tr>\n",
       "      <th>PassengerId</th>\n",
       "      <th></th>\n",
       "      <th></th>\n",
       "      <th></th>\n",
       "      <th></th>\n",
       "      <th></th>\n",
       "      <th></th>\n",
       "      <th></th>\n",
       "      <th></th>\n",
       "      <th></th>\n",
       "      <th></th>\n",
       "      <th></th>\n",
       "    </tr>\n",
       "  </thead>\n",
       "  <tbody>\n",
       "    <tr>\n",
       "      <th>28</th>\n",
       "      <td>0</td>\n",
       "      <td>1</td>\n",
       "      <td>Fortune, Mr. Charles Alexander</td>\n",
       "      <td>male</td>\n",
       "      <td>19.0</td>\n",
       "      <td>3</td>\n",
       "      <td>2</td>\n",
       "      <td>19950</td>\n",
       "      <td>263.0</td>\n",
       "      <td>C23 C25 C27</td>\n",
       "      <td>S</td>\n",
       "    </tr>\n",
       "    <tr>\n",
       "      <th>89</th>\n",
       "      <td>1</td>\n",
       "      <td>1</td>\n",
       "      <td>Fortune, Miss. Mabel Helen</td>\n",
       "      <td>female</td>\n",
       "      <td>23.0</td>\n",
       "      <td>3</td>\n",
       "      <td>2</td>\n",
       "      <td>19950</td>\n",
       "      <td>263.0</td>\n",
       "      <td>C23 C25 C27</td>\n",
       "      <td>S</td>\n",
       "    </tr>\n",
       "    <tr>\n",
       "      <th>342</th>\n",
       "      <td>1</td>\n",
       "      <td>1</td>\n",
       "      <td>Fortune, Miss. Alice Elizabeth</td>\n",
       "      <td>female</td>\n",
       "      <td>24.0</td>\n",
       "      <td>3</td>\n",
       "      <td>2</td>\n",
       "      <td>19950</td>\n",
       "      <td>263.0</td>\n",
       "      <td>C23 C25 C27</td>\n",
       "      <td>S</td>\n",
       "    </tr>\n",
       "    <tr>\n",
       "      <th>439</th>\n",
       "      <td>0</td>\n",
       "      <td>1</td>\n",
       "      <td>Fortune, Mr. Mark</td>\n",
       "      <td>male</td>\n",
       "      <td>64.0</td>\n",
       "      <td>1</td>\n",
       "      <td>4</td>\n",
       "      <td>19950</td>\n",
       "      <td>263.0</td>\n",
       "      <td>C23 C25 C27</td>\n",
       "      <td>S</td>\n",
       "    </tr>\n",
       "  </tbody>\n",
       "</table>\n",
       "</div>"
      ],
      "text/plain": [
       "             Survived  Pclass                            Name     Sex   Age  \\\n",
       "PassengerId                                                                   \n",
       "28                  0       1  Fortune, Mr. Charles Alexander    male  19.0   \n",
       "89                  1       1      Fortune, Miss. Mabel Helen  female  23.0   \n",
       "342                 1       1  Fortune, Miss. Alice Elizabeth  female  24.0   \n",
       "439                 0       1               Fortune, Mr. Mark    male  64.0   \n",
       "\n",
       "             SibSp  Parch Ticket   Fare        Cabin Embarked  \n",
       "PassengerId                                                    \n",
       "28               3      2  19950  263.0  C23 C25 C27        S  \n",
       "89               3      2  19950  263.0  C23 C25 C27        S  \n",
       "342              3      2  19950  263.0  C23 C25 C27        S  \n",
       "439              1      4  19950  263.0  C23 C25 C27        S  "
      ]
     },
     "execution_count": 7,
     "metadata": {},
     "output_type": "execute_result"
    }
   ],
   "source": [
    "dataset[dataset['Cabin']=='C23 C25 C27']"
   ]
  },
  {
   "cell_type": "markdown",
   "metadata": {},
   "source": [
    "We will start assuming only the cabin 'section' (*C* in this case) does matter, assuming all the same letter cabins are located nearby. We also need to split the fare across the number of booked cabins to make the feature 'Fare' really relevant as illustrated above. When the cabin field is empty (NaN), we use the multiplicity of *Tickets* to do this normalization. It is not exactly the same as you can see above, but it's better than nothing."
   ]
  },
  {
   "cell_type": "markdown",
   "metadata": {},
   "source": [
    "Let's split the fare across the number of cabin for a given passenger (or the multiplicity of the ticket), replace the 'NaN' by a dummy cabin class 'Z', and keep only the cabin class instead of the total cabin reference:"
   ]
  },
  {
   "cell_type": "code",
   "execution_count": 8,
   "metadata": {
    "collapsed": true
   },
   "outputs": [],
   "source": [
    "# Ticket: use the number of identical ticket delivered to normalize fare if Cabin is NaN\n",
    "dataset['Cabin'].fillna('Z', inplace=True)\n",
    "ticket = dataset['Ticket'].value_counts().to_dict()\n",
    "ticketreduced = dict((k, v) for k, v in ticket.items() if v >= 2) # what needs to be normalized\n",
    "for item in ticketreduced.keys():\n",
    "    dataset.loc[(dataset['Ticket']==item) & (dataset['Cabin']=='Z'),'Fare'] \\\n",
    "          = dataset.loc[(dataset['Ticket']==item) & (dataset['Cabin']=='Z'),'Fare'] / ticketreduced[item]\n",
    "\n",
    "# Fare: normalize by number of cabin booked\n",
    "dataset['Cabin'] = dataset['Cabin'].str.split()\n",
    "normfactor = dataset['Cabin'].apply(lambda x: len(x))\n",
    "dataset['Fare'].fillna(dataset['Fare'].mean(), inplace=True) # only 1 data entry concerned\n",
    "dataset['Fare'] = dataset['Fare']/normfactor\n",
    "\n",
    "# Cabin: convert to cat.-feat. and reduce it to 2 classes\n",
    "dataset['Cabin'] = dataset['Cabin'].astype(str).str[2]"
   ]
  },
  {
   "cell_type": "markdown",
   "metadata": {},
   "source": [
    "I didn't see any other use for the *Ticket* feature, so I will discard it for the final model in order to reduce dimensionality of our problem. \n",
    "\n",
    "Let's check what are our different possibilities for the *Cabin* feature now:"
   ]
  },
  {
   "cell_type": "code",
   "execution_count": 9,
   "metadata": {},
   "outputs": [
    {
     "data": {
      "text/plain": [
       "array(['Z', 'C', 'E', 'G', 'D', 'A', 'B', 'F', 'T'], dtype=object)"
      ]
     },
     "execution_count": 9,
     "metadata": {},
     "output_type": "execute_result"
    }
   ],
   "source": [
    "dataset['Cabin'].unique()"
   ]
  },
  {
   "cell_type": "markdown",
   "metadata": {},
   "source": [
    "We now convert the 'Cabin' label into a numerical feature to plot it. We use a function from *sklearn* for this. Note that the cabin are ordered automatically using this transformation:"
   ]
  },
  {
   "cell_type": "code",
   "execution_count": 10,
   "metadata": {},
   "outputs": [
    {
     "data": {
      "text/plain": [
       "['A', 'B', 'C', 'D', 'E', 'F', 'G', 'T', 'Z']"
      ]
     },
     "execution_count": 10,
     "metadata": {},
     "output_type": "execute_result"
    }
   ],
   "source": [
    "le = preprocessing.LabelEncoder()\n",
    "le.fit_transform(dataset['Cabin'])\n",
    "le.transform(dataset['Cabin'])\n",
    "list(le.inverse_transform([0,1,2,3,4,5,6,7,8]))"
   ]
  },
  {
   "cell_type": "code",
   "execution_count": 11,
   "metadata": {
    "collapsed": true
   },
   "outputs": [],
   "source": [
    "dataset['Cabin'] = le.fit_transform(dataset['Cabin'])"
   ]
  },
  {
   "cell_type": "markdown",
   "metadata": {},
   "source": [
    "Let's plot the **'Cabin' - 'Survived'** dependency now:"
   ]
  },
  {
   "cell_type": "code",
   "execution_count": 12,
   "metadata": {},
   "outputs": [
    {
     "data": {
      "text/plain": [
       "<matplotlib.legend.Legend at 0x7f0a8c8d9be0>"
      ]
     },
     "execution_count": 12,
     "metadata": {},
     "output_type": "execute_result"
    },
    {
     "data": {
      "image/png": "[encoded data removed]",
      "text/plain": [
       "<matplotlib.figure.Figure at 0x7f0a8c8d96d8>"
      ]
     },
     "metadata": {},
     "output_type": "display_data"
    }
   ],
   "source": [
    "dead = dataset.loc[dataset['Survived']==0,'Cabin']\n",
    "alive = dataset.loc[dataset['Survived']==1,'Cabin']\n",
    "binBoundaries = np.linspace(0,9,10)\n",
    "fig = plt.hist([dead,alive], bins=binBoundaries, log=False, color=['r','g'], alpha=0.75);\n",
    "plt.legend(['Dead','Alive'],loc=0,prop={'size': 15})"
   ]
  },
  {
   "cell_type": "markdown",
   "metadata": {},
   "source": [
    "Given the distribution of the data, we better have to reduce it to fewer categories as one is dominating the others (the last cabin type, 'Nan'). Additionnally, this feature is aprtially correlated with the *Pclass* feature. What we can do to reduce the number of features and make it more relevant, is to create a new one based on *Cabin* bucketization depending on the *Pclass*. We will call it *Location*."
   ]
  },
  {
   "cell_type": "code",
   "execution_count": 13,
   "metadata": {},
   "outputs": [
    {
     "data": {
      "image/png": "[encoded data removed]",
      "text/plain": [
       "<matplotlib.figure.Figure at 0x7f0a8c937400>"
      ]
     },
     "metadata": {},
     "output_type": "display_data"
    }
   ],
   "source": [
    "fig = plt.plot(dataset['Cabin'], dataset['Pclass'],'ro');"
   ]
  },
  {
   "cell_type": "code",
   "execution_count": 14,
   "metadata": {},
   "outputs": [
    {
     "data": {
      "text/plain": [
       "<matplotlib.legend.Legend at 0x7f0a86cf5278>"
      ]
     },
     "execution_count": 14,
     "metadata": {},
     "output_type": "execute_result"
    },
    {
     "data": {
      "image/png": "[encoded data removed]",
      "text/plain": [
       "<matplotlib.figure.Figure at 0x7f0a86f2a748>"
      ]
     },
     "metadata": {},
     "output_type": "display_data"
    }
   ],
   "source": [
    "f, axarr = plt.subplots(1, 3,figsize=(14, 4))\n",
    "binBoundaries = np.linspace(0,9,10)\n",
    "\n",
    "x1 = dataset.loc[(dataset['Survived']==0) & (dataset['Pclass']==1),'Cabin']\n",
    "y1 = dataset.loc[(dataset['Survived']==1) & (dataset['Pclass']==1),'Cabin']\n",
    "axarr[0].hist([x1,y1], bins=binBoundaries, log=False, color=['r','g'], alpha=0.75);\n",
    "axarr[0].set_title('Pclass = 1')\n",
    "axarr[0].legend(['Dead','Alive'],loc=0,prop={'size': 15})\n",
    "\n",
    "x2 = dataset.loc[(dataset['Survived']==0) & (dataset['Pclass']==2),'Cabin']\n",
    "y2 = dataset.loc[(dataset['Survived']==1) & (dataset['Pclass']==2),'Cabin']\n",
    "axarr[1].hist([x2,y2], bins=binBoundaries, log=False, color=['r','g'], alpha=0.75);\n",
    "axarr[1].set_title('Pclass = 2')\n",
    "axarr[1].legend(['Dead','Alive'],loc=0,prop={'size': 15})\n",
    "\n",
    "x3 = dataset.loc[(dataset['Survived']==0) & (dataset['Pclass']==3),'Cabin']\n",
    "y3 = dataset.loc[(dataset['Survived']==1) & (dataset['Pclass']==3),'Cabin']\n",
    "axarr[2].hist([x3,y3], bins=binBoundaries, log=False, color=['r','g'], alpha=0.75);\n",
    "axarr[2].set_title('Pclass = 3')\n",
    "axarr[2].legend(['Dead','Alive'],loc=0,prop={'size': 15})"
   ]
  },
  {
   "cell_type": "markdown",
   "metadata": {},
   "source": [
    "By slicing on the most prominent behaviour of each of the previous plot, one can build 5 relevant categories for *Location* (or more, or less, whatever you want actually) instead of 3+9. The total number of combinations is then reduced to $5 \\times 1$ instead of $3 \\times 9 = 27$. Remember we only have 900 points, and overall the less the number of combinations, the more accurately our model can learn from the data and generalize well. Of course there is a limit, but for now we can overfit too easily, so we need to reduce the number of features.\n",
    "\n",
    "We will then build this new feature, and discards the features *Cabin* and *Pclass*."
   ]
  },
  {
   "cell_type": "code",
   "execution_count": 15,
   "metadata": {
    "collapsed": true
   },
   "outputs": [],
   "source": [
    "dataset = dataset.assign(Location=pd.Series(np.zeros(len(dataset),dtype=int)).values)\n",
    "\n",
    "dataset.loc[dataset['Pclass']==3,'Location'] = 0\n",
    "dataset.loc[dataset['Pclass']==2,'Location'] = 1\n",
    "dataset.loc[dataset['Pclass']==1,'Location'] = 2\n",
    "dataset.loc[(dataset['Pclass']==2) & (dataset['Cabin']<8),'Location'] = 3\n",
    "dataset.loc[(dataset['Pclass']==1) & (dataset['Cabin']>=2) & (dataset['Cabin']<=4),'Location'] = 3"
   ]
  },
  {
   "cell_type": "markdown",
   "metadata": {},
   "source": [
    "### Fare"
   ]
  },
  {
   "cell_type": "markdown",
   "metadata": {},
   "source": [
    "Let's look at the **'Fare' - 'Survived'** dependance (we ignore the outliers beyond 300 for readability):"
   ]
  },
  {
   "cell_type": "code",
   "execution_count": 16,
   "metadata": {},
   "outputs": [
    {
     "data": {
      "text/plain": [
       "<matplotlib.legend.Legend at 0x7f0a8c8d94a8>"
      ]
     },
     "execution_count": 16,
     "metadata": {},
     "output_type": "execute_result"
    },
    {
     "data": {
      "image/png": "[encoded data removed]",
      "text/plain": [
       "<matplotlib.figure.Figure at 0x7f0a8c8a5f28>"
      ]
     },
     "metadata": {},
     "output_type": "display_data"
    }
   ],
   "source": [
    "dead = data.loc[data['Survived']==0,'Fare']\n",
    "alive = data.loc[data['Survived']==1,'Fare']\n",
    "binBoundaries = np.linspace(0,300,30)\n",
    "plt.hist([dead,alive], bins=binBoundaries, log=False, color=['r','g'], alpha=0.75);\n",
    "plt.legend(['Dead','Alive'],loc=0,prop={'size': 15})"
   ]
  },
  {
   "cell_type": "markdown",
   "metadata": {},
   "source": [
    "There is a correlation between *Fare* and survival chances, but we would like to make it clearer. Let's use the *Location* variable for this:"
   ]
  },
  {
   "cell_type": "code",
   "execution_count": 17,
   "metadata": {},
   "outputs": [
    {
     "data": {
      "text/plain": [
       "<matplotlib.legend.Legend at 0x7f0a86cd0860>"
      ]
     },
     "execution_count": 17,
     "metadata": {},
     "output_type": "execute_result"
    },
    {
     "data": {
      "image/png": "[encoded data removed]",
      "text/plain": [
       "<matplotlib.figure.Figure at 0x7f0a86a0ef28>"
      ]
     },
     "metadata": {},
     "output_type": "display_data"
    }
   ],
   "source": [
    "f, axarr = plt.subplots(2, 2,figsize=(14, 6))\n",
    "binBoundaries = np.linspace(0,200,20)\n",
    "\n",
    "x0 = dataset.loc[(dataset['Survived']==0) & (dataset['Location']==0),'Fare']\n",
    "y0 = dataset.loc[(dataset['Survived']==1) & (dataset['Location']==0),'Fare']\n",
    "axarr[0,0].hist([x0,y0], bins=binBoundaries, log=False, color=['r','g'], alpha=0.75);\n",
    "axarr[0,0].set_title('Location = 0')\n",
    "axarr[0,0].legend(['Dead','Alive'],loc=0,prop={'size': 15})\n",
    "\n",
    "x1 = dataset.loc[(dataset['Survived']==0) & (dataset['Location']==1),'Fare']\n",
    "y1 = dataset.loc[(dataset['Survived']==1) & (dataset['Location']==1),'Fare']\n",
    "axarr[0,1].hist([x1,y1], bins=binBoundaries, log=False, color=['r','g'], alpha=0.75);\n",
    "axarr[0,1].set_title('Location = 1')\n",
    "axarr[0,1].legend(['Dead','Alive'],loc=0,prop={'size': 15})\n",
    "\n",
    "x2 = dataset.loc[(dataset['Survived']==0) & (dataset['Location']==2),'Fare']\n",
    "y2 = dataset.loc[(dataset['Survived']==1) & (dataset['Location']==2),'Fare']\n",
    "axarr[1,0].hist([x2,y2], bins=binBoundaries, log=False, color=['r','g'], alpha=0.75);\n",
    "axarr[1,0].set_title('Location = 2')\n",
    "axarr[1,0].legend(['Dead','Alive'],loc=0,prop={'size': 15})\n",
    "\n",
    "x3 = dataset.loc[(dataset['Survived']==0) & (dataset['Location']==3),'Fare']\n",
    "y3 = dataset.loc[(dataset['Survived']==1) & (dataset['Location']==3),'Fare']\n",
    "axarr[1,1].hist([x3,y3], bins=binBoundaries, log=False, color=['r','g'], alpha=0.75);\n",
    "axarr[1,1].set_title('Location = 3')\n",
    "axarr[1,1].legend(['Dead','Alive'],loc=0,prop={'size': 15})"
   ]
  },
  {
   "cell_type": "markdown",
   "metadata": {},
   "source": [
    "The *Location* feature makes a good job, we can simply divide the fare range into 2 additionnal categories to further refine the selectivity. Typically, 50 is a good separation. It allows a very good separation for the *Location* 3 and a decent one for 4 (but it's not really needed honestly). The location 2 has not enough stat, and is is mostly positive (*survived*=1) anyway so it won't change anything. For *Location*=0 or 1, we would rather have a cutoff at 25.\n",
    "\n",
    "The best compromise (number of category wise) is splitting the *Fare* range into 3 categories: 0 to 25, 25 to 50, and above 50."
   ]
  },
  {
   "cell_type": "markdown",
   "metadata": {},
   "source": [
    "### Embarked"
   ]
  },
  {
   "cell_type": "markdown",
   "metadata": {},
   "source": [
    "We do the same work for the 'Embarked' feature now. There are only 2 data entries which have a NaN here, so instead of creating a new dummy class, we will put them to the most populated one:"
   ]
  },
  {
   "cell_type": "code",
   "execution_count": 18,
   "metadata": {},
   "outputs": [
    {
     "data": {
      "text/plain": [
       "array(['S', 'C', 'Q', nan], dtype=object)"
      ]
     },
     "execution_count": 18,
     "metadata": {},
     "output_type": "execute_result"
    }
   ],
   "source": [
    "dataset['Embarked'].unique()"
   ]
  },
  {
   "cell_type": "code",
   "execution_count": 19,
   "metadata": {
    "collapsed": true
   },
   "outputs": [],
   "source": [
    "# Embarkment port: merge the 2 lowest populated categories\n",
    "dataset['Embarked'].fillna('S', inplace=True) # the most frequent class (concerns only 2 entries)\n",
    "dataset['Embarked'] = le.fit_transform(dataset['Embarked'])"
   ]
  },
  {
   "cell_type": "markdown",
   "metadata": {},
   "source": [
    "Let's plot the **'Embarked' - 'Survived'** dependency now:"
   ]
  },
  {
   "cell_type": "code",
   "execution_count": 20,
   "metadata": {},
   "outputs": [
    {
     "data": {
      "text/plain": [
       "<matplotlib.legend.Legend at 0x7f0a8c9370f0>"
      ]
     },
     "execution_count": 20,
     "metadata": {},
     "output_type": "execute_result"
    },
    {
     "data": {
      "image/png": "[encoded data removed]",
      "text/plain": [
       "<matplotlib.figure.Figure at 0x7f0a86c54cf8>"
      ]
     },
     "metadata": {},
     "output_type": "display_data"
    }
   ],
   "source": [
    "dead = dataset.loc[dataset['Survived']==0,'Embarked']\n",
    "alive = dataset.loc[dataset['Survived']==1,'Embarked']\n",
    "binBoundaries = np.linspace(0,3,4)\n",
    "fig = plt.hist([dead,alive], bins=binBoundaries, log=False, color=['r','g'], alpha=0.75);\n",
    "plt.legend(['Dead','Alive'],loc=0,prop={'size': 15})"
   ]
  },
  {
   "cell_type": "markdown",
   "metadata": {},
   "source": [
    "There is a surprisingly big correlation here, people embarking at Southampton having much bigger chances to die. Since most of the passengers embarked from Southampton, we better have to plot something normalized by the number of passengers from a given port if we want to compare data from one port versus another.\n",
    "\n",
    "Let's see if the information form *Embarked* is not simply a combination of other informations. Let's start with the *Fare*:"
   ]
  },
  {
   "cell_type": "code",
   "execution_count": 21,
   "metadata": {},
   "outputs": [
    {
     "data": {
      "text/plain": [
       "<matplotlib.legend.Legend at 0x7f0a86558780>"
      ]
     },
     "execution_count": 21,
     "metadata": {},
     "output_type": "execute_result"
    },
    {
     "data": {
      "image/png": "[encoded data removed]",
      "text/plain": [
       "<matplotlib.figure.Figure at 0x7f0a8f004e48>"
      ]
     },
     "metadata": {},
     "output_type": "display_data"
    }
   ],
   "source": [
    "set1 = dataset.loc[dataset['Embarked']==2,'Fare']\n",
    "set2 = dataset.loc[dataset['Embarked']!=2,'Fare']\n",
    "weights1 = np.ones_like(set1)/float(len(dataset.loc[dataset['Embarked']==2,'Fare']))\n",
    "weights2 = np.ones_like(set2)/float(len(dataset.loc[dataset['Embarked']!=2,'Fare']))\n",
    "binBoundaries = np.linspace(0,550,26)\n",
    "fig = plt.hist([set1,set2], bins=binBoundaries, weights=[weights1,weights2], log=False, color=['b','g'], alpha=0.75);\n",
    "plt.legend(['Emb. = Southampton','Emb. = other'],loc=0,prop={'size': 15})"
   ]
  },
  {
   "cell_type": "markdown",
   "metadata": {},
   "source": [
    "People embarking from Southampton were indeed poorer than others. It contributes to their lower survival chances, as we saw above.\n",
    "\n",
    "What about gender now? We need to first it to a numerical value to use it:"
   ]
  },
  {
   "cell_type": "code",
   "execution_count": 22,
   "metadata": {},
   "outputs": [
    {
     "data": {
      "text/plain": [
       "['female', 'male']"
      ]
     },
     "execution_count": 22,
     "metadata": {},
     "output_type": "execute_result"
    }
   ],
   "source": [
    "dataset['Sex'] = le.fit_transform(data['Sex'])\n",
    "list(le.inverse_transform([0,1]))"
   ]
  },
  {
   "cell_type": "code",
   "execution_count": 23,
   "metadata": {},
   "outputs": [
    {
     "data": {
      "image/png": "[encoded data removed]",
      "text/plain": [
       "<matplotlib.figure.Figure at 0x7f0a86c03198>"
      ]
     },
     "metadata": {},
     "output_type": "display_data"
    }
   ],
   "source": [
    "set1 = dataset.loc[dataset['Embarked']==2, 'Sex']\n",
    "set2 = dataset.loc[dataset['Embarked']!=2, 'Sex']\n",
    "weights1 = np.ones_like(set1)/float(len(dataset.loc[dataset['Embarked']==2, 'Sex']))\n",
    "weights2 = np.ones_like(set2)/float(len(dataset.loc[dataset['Embarked']!=2, 'Sex']))\n",
    "binBoundaries = np.linspace(0,2,3)\n",
    "fig = plt.hist([set1,set2], bins=binBoundaries, weights=[weights1,weights2], log=False, color=['b','g'], alpha=0.75);"
   ]
  },
  {
   "cell_type": "markdown",
   "metadata": {},
   "source": [
    "Given the naval traditions (womens and childs first) at this time of history, one could expect a lower survival chance from Southampton passengers on average as their fraction of male passengers is higher than the passengers from other ports.\n",
    "\n",
    "We can also check the ratio of passenger's embarkment port with age:"
   ]
  },
  {
   "cell_type": "code",
   "execution_count": 24,
   "metadata": {},
   "outputs": [
    {
     "data": {
      "image/png": "[encoded data removed]",
      "text/plain": [
       "<matplotlib.figure.Figure at 0x7f0a864d5f98>"
      ]
     },
     "metadata": {},
     "output_type": "display_data"
    }
   ],
   "source": [
    "set1 = dataset.loc[ (dataset['Embarked']==2) & (dataset['Age']), 'Age']\n",
    "set2 = dataset.loc[ (dataset['Embarked']!=2) & (dataset['Age']), 'Age']\n",
    "weights1 = np.ones_like(set1)/float(len(data.loc[ (dataset['Embarked']==2) & (dataset['Age']<100), 'Age']))\n",
    "weights2 = np.ones_like(set2)/float(len(data.loc[ (dataset['Embarked']!=2) & (dataset['Age']<100), 'Age']))\n",
    "binBoundaries = np.linspace(0,90,6)\n",
    "fig = plt.hist([set1,set2], bins=binBoundaries, weights=[weights1,weights2], log=False, color=['b','g'], alpha=0.75);"
   ]
  },
  {
   "cell_type": "markdown",
   "metadata": {},
   "source": [
    "As we will see later, *Age* greatly influences survival chances, and the passengers from Southampton have a child/adult ratio lower than passengers from other ports. This is a 3rd contribution to this difference between survival chances from passenger from Southhampton to the others.\n",
    "\n",
    "We thus can explain most (if not all) of the difference of survival chances from embarkement port from other features. We will thus discard this variable in order to reduce the total number of features."
   ]
  },
  {
   "cell_type": "markdown",
   "metadata": {},
   "source": [
    "### Sex"
   ]
  },
  {
   "cell_type": "markdown",
   "metadata": {},
   "source": [
    "We converted this feature into numerical categories earlier. We now can look at a **'Sex' - 'Survived'** plot"
   ]
  },
  {
   "cell_type": "code",
   "execution_count": 25,
   "metadata": {},
   "outputs": [
    {
     "data": {
      "text/plain": [
       "<matplotlib.legend.Legend at 0x7f0a86ab3400>"
      ]
     },
     "execution_count": 25,
     "metadata": {},
     "output_type": "execute_result"
    },
    {
     "data": {
      "image/png": "[encoded data removed]",
      "text/plain": [
       "<matplotlib.figure.Figure at 0x7f0a863c7d30>"
      ]
     },
     "metadata": {},
     "output_type": "display_data"
    }
   ],
   "source": [
    "dead = dataset.loc[dataset['Survived']==0,'Sex']\n",
    "alive = dataset.loc[dataset['Survived']==1,'Sex']\n",
    "binBoundaries = np.linspace(0,2,3)\n",
    "fig = plt.hist([dead,alive], bins=binBoundaries, log=False, color=['r','g'], alpha=0.75);\n",
    "plt.legend(['Dead','Alive'],loc=0,prop={'size': 15})"
   ]
  },
  {
   "cell_type": "markdown",
   "metadata": {},
   "source": [
    "Clearly, being a male or a female is a strong factor in determining survival. This feature is already very simple (2 categories) and extremely expressive. We will keep it as it is."
   ]
  },
  {
   "cell_type": "markdown",
   "metadata": {},
   "source": [
    "### Age (and Name)"
   ]
  },
  {
   "cell_type": "markdown",
   "metadata": {},
   "source": [
    "#### First look at age"
   ]
  },
  {
   "cell_type": "markdown",
   "metadata": {},
   "source": [
    "There is a lot of work for this one:"
   ]
  },
  {
   "cell_type": "code",
   "execution_count": 26,
   "metadata": {},
   "outputs": [
    {
     "data": {
      "text/plain": [
       "177"
      ]
     },
     "execution_count": 26,
     "metadata": {},
     "output_type": "execute_result"
    }
   ],
   "source": [
    "dataset['Age'].isnull().sum()"
   ]
  },
  {
   "cell_type": "markdown",
   "metadata": {},
   "source": [
    "We miss *Age* values for over 20% of our passengers, and it is an important factor for survival chances as we will see soon. Most of our work here will be to reconstruct *Age* from other features. Let's first plot something to see it's importance."
   ]
  },
  {
   "cell_type": "code",
   "execution_count": 27,
   "metadata": {},
   "outputs": [
    {
     "data": {
      "text/plain": [
       "<matplotlib.legend.Legend at 0x7f0a86893518>"
      ]
     },
     "execution_count": 27,
     "metadata": {},
     "output_type": "execute_result"
    },
    {
     "data": {
      "image/png": "[encoded data removed]",
      "text/plain": [
       "<matplotlib.figure.Figure at 0x7f0a861b0c88>"
      ]
     },
     "metadata": {},
     "output_type": "display_data"
    }
   ],
   "source": [
    "f, axarr = plt.subplots(1, 1,figsize=(14, 6))\n",
    "binBoundaries = np.linspace(0,80,40)\n",
    "\n",
    "x0 = dataset.loc[(dataset['Survived']==0) & (dataset['Age']),'Age']\n",
    "y0 = dataset.loc[(dataset['Survived']==1) & (dataset['Age']),'Age']\n",
    "axarr.hist([x0,y0], bins=binBoundaries, log=False, color=['r','g'], alpha=0.75);\n",
    "axarr.legend(['Dead','Alive'],loc=0,prop={'size': 15})"
   ]
  },
  {
   "cell_type": "markdown",
   "metadata": {},
   "source": [
    "This plot is quite straightforward. Being a child increase survival chances whereas people from intermediate ages have the lowest chances of survival. Older peoples have better chances than intermediate ages peoples, but is not strong enough to deserve a special treatment. What we will do here, is simply reduce the *Age* feature to a binary-class feature: is the passenger a child or not? I set the separation at 15 years, which yields the best results for me.\n",
    "\n",
    "But before doing so, we need to fill our NaN in *Age*."
   ]
  },
  {
   "cell_type": "markdown",
   "metadata": {},
   "source": [
    "#### Name"
   ]
  },
  {
   "cell_type": "markdown",
   "metadata": {},
   "source": [
    "As you will probably find on the web, one can extract the title ('Mr.', 'Miss.' etc...) of a passenger from his name field. I first didn't used it but figured out at some point that the title can be quite correlated to the age of a passenger.\n",
    "\n",
    "Let's first extract the title of passengers:"
   ]
  },
  {
   "cell_type": "code",
   "execution_count": 28,
   "metadata": {},
   "outputs": [
    {
     "data": {
      "text/plain": [
       "{'Capt.': 1,\n",
       " 'Col.': 2,\n",
       " 'Don.': 1,\n",
       " 'Dr.': 7,\n",
       " 'Jonkheer.': 1,\n",
       " 'Lady.': 1,\n",
       " 'Major.': 2,\n",
       " 'Master.': 40,\n",
       " 'Miss.': 182,\n",
       " 'Mlle.': 2,\n",
       " 'Mme.': 1,\n",
       " 'Mr.': 517,\n",
       " 'Mrs.': 125,\n",
       " 'Ms.': 1,\n",
       " 'Rev.': 6,\n",
       " 'Sir.': 1,\n",
       " 'the': 1}"
      ]
     },
     "execution_count": 28,
     "metadata": {},
     "output_type": "execute_result"
    }
   ],
   "source": [
    "# Title: extract it from the 'Name', there are correlations with age that can be used\n",
    "dataset['Name'] = dataset['Name'].str.split(',').str.get(1).str.split().str.get(0) # title comes right after comma\n",
    "titles = dataset['Name'].value_counts().to_dict() # dict of {titles: counts}\n",
    "titles"
   ]
  },
  {
   "cell_type": "markdown",
   "metadata": {},
   "source": [
    "There are too many of them, and too few data in most of them. We will then create a 'garbage' category tu put them all, and treat it as a whole. Since fancy titles are not for kids, we will set the NaN *Age* of any of the member of this garbage category to 'Adult':"
   ]
  },
  {
   "cell_type": "code",
   "execution_count": 29,
   "metadata": {
    "collapsed": true
   },
   "outputs": [],
   "source": [
    "limits = {}\n",
    "limits['child'] = 15\n",
    "limits['titlelimit'] = 10\n",
    "\n",
    "garbage =  dict((k, v) for k, v in titles.items() if v <= limits['titlelimit']) # titles to be garbaged \n",
    "# Fancy titles are not for kids, but for elder peoples:\n",
    "for title in garbage.keys():\n",
    "    dataset.loc[(dataset['Name']==title) & (dataset['Age'].isnull()), 'Age'] = limits['child']+1"
   ]
  },
  {
   "cell_type": "markdown",
   "metadata": {},
   "source": [
    "We can now work around the 4 most represented categories: 'Mr.', 'Miss.', 'Mrs.' and 'Master.'.\n",
    "\n",
    "Let's start with 'Master.'. In old times, it was used for male child of good families. Let's check this:"
   ]
  },
  {
   "cell_type": "code",
   "execution_count": 30,
   "metadata": {},
   "outputs": [
    {
     "data": {
      "text/plain": [
       "[4.574166666666667, 3.5]"
      ]
     },
     "execution_count": 30,
     "metadata": {},
     "output_type": "execute_result"
    }
   ],
   "source": [
    "[dataset.loc[(dataset['Name']=='Master.') & (dataset['Age']), 'Age'].mean(),\n",
    "dataset.loc[(dataset['Name']=='Master.') & (dataset['Age']), 'Age'].median()]"
   ]
  },
  {
   "cell_type": "markdown",
   "metadata": {},
   "source": [
    "That's pretty clear, there are mostly childs there. All the NaN with 'Master.' as title will be then set to the mean value of this category:"
   ]
  },
  {
   "cell_type": "code",
   "execution_count": 31,
   "metadata": {
    "collapsed": true
   },
   "outputs": [],
   "source": [
    "# Correlation with 'Master.' title is clear\n",
    "dataset.loc[(dataset['Name']=='Master.') & (dataset['Age'].isnull()), 'Age'] \\\n",
    "          = dataset.loc[dataset['Name']=='Master.', 'Age'].mean()"
   ]
  },
  {
   "cell_type": "markdown",
   "metadata": {},
   "source": [
    "Regarding 'Mrs.', it refers to a married woman. So in principle, such a woman should not be a child:"
   ]
  },
  {
   "cell_type": "code",
   "execution_count": 32,
   "metadata": {},
   "outputs": [
    {
     "data": {
      "text/plain": [
       "[35.898148148148145, 35.0]"
      ]
     },
     "execution_count": 32,
     "metadata": {},
     "output_type": "execute_result"
    }
   ],
   "source": [
    "[dataset.loc[(dataset['Name']=='Mrs.') & (dataset['Age']), 'Age'].mean(),\n",
    "dataset.loc[(dataset['Name']=='Mrs.') & (dataset['Age']), 'Age'].median()]"
   ]
  },
  {
   "cell_type": "markdown",
   "metadata": {},
   "source": [
    "Indeed, they are mostly not childrens anymore. Let's set their NaN to the mean value:"
   ]
  },
  {
   "cell_type": "code",
   "execution_count": 33,
   "metadata": {
    "collapsed": true
   },
   "outputs": [],
   "source": [
    "# Married ladies aren't child anymore (I hope so at least)\n",
    "dataset.loc[(dataset['Name']=='Mrs.') & (dataset['Age'].isnull()), 'Age'] \\\n",
    "          = dataset.loc[(dataset['Name']=='Mrs.') & (dataset['Age']>0), 'Age'].mean()"
   ]
  },
  {
   "cell_type": "markdown",
   "metadata": {},
   "source": [
    "For 'Mr.' and 'Miss.', which are more general titles, we will use an additional criterion. We will assume that kids doesn't travel alone. So a passenger with *Parch*=0 (number of parents or childs) cannot be a child:"
   ]
  },
  {
   "cell_type": "code",
   "execution_count": 34,
   "metadata": {},
   "outputs": [
    {
     "data": {
      "text/plain": [
       "[[32.20428571428572, 29.0], [27.763736263736263, 26.0]]"
      ]
     },
     "execution_count": 34,
     "metadata": {},
     "output_type": "execute_result"
    }
   ],
   "source": [
    "[[dataset.loc[(dataset['Name']=='Mr.') & (dataset['Parch']==0) & (dataset['Age']), 'Age'].mean(),\n",
    "dataset.loc[(dataset['Name']=='Mr.') & (dataset['Parch']==0) & (dataset['Age']), 'Age'].median()],\n",
    " [dataset.loc[(dataset['Name']=='Miss.') & (dataset['Parch']==0) & (dataset['Age']), 'Age'].mean(),\n",
    "dataset.loc[(dataset['Name']=='Miss.') & (dataset['Parch']==0) & (dataset['Age']), 'Age'].median()]]"
   ]
  },
  {
   "cell_type": "markdown",
   "metadata": {},
   "source": [
    "It's okay, we can set both of 'Mr.' and 'Miss.' with *Parch*=0 to the mean age if they don't already have one:"
   ]
  },
  {
   "cell_type": "code",
   "execution_count": 35,
   "metadata": {
    "collapsed": true
   },
   "outputs": [],
   "source": [
    "dataset.loc[(dataset['Name']=='Miss.') & (dataset['Parch']==0) & (dataset['Age'].isnull()), 'Age'] \\\n",
    "          = dataset.loc[(dataset['Name']=='Miss.') & (dataset['Parch']==0) & (dataset['Age']>0), 'Age'].mean()\n",
    "dataset.loc[(dataset['Name']=='Mr.') & (dataset['Parch']==0) & (dataset['Age'].isnull()), 'Age'] \\\n",
    "          = dataset.loc[(dataset['Name']=='Mr.') & (dataset['Parch']==0) & (dataset['Age']>0), 'Age'].mean()"
   ]
  },
  {
   "cell_type": "markdown",
   "metadata": {},
   "source": [
    "Now for the case *Parch*>0, 2 scenarios are possible for each title: either the passenger is a child travelling with a parent, either the contrary. Let's check what does the statistic tells:"
   ]
  },
  {
   "cell_type": "code",
   "execution_count": 36,
   "metadata": {},
   "outputs": [
    {
     "data": {
      "text/plain": [
       "[[33.5625, 35.0], [11.863636363636363, 9.0]]"
      ]
     },
     "execution_count": 36,
     "metadata": {},
     "output_type": "execute_result"
    }
   ],
   "source": [
    "[[dataset.loc[(dataset['Name']=='Mr.') & (dataset['Parch']>0) & (dataset['Age']), 'Age'].mean(),\n",
    "dataset.loc[(dataset['Name']=='Mr.') & (dataset['Parch']>0) & (dataset['Age']), 'Age'].median()],\n",
    " [dataset.loc[(dataset['Name']=='Miss.') & (dataset['Parch']>0) & (dataset['Age']), 'Age'].mean(),\n",
    "dataset.loc[(dataset['Name']=='Miss.') & (dataset['Parch']>0) & (dataset['Age']), 'Age'].median()]]"
   ]
  },
  {
   "cell_type": "markdown",
   "metadata": {},
   "source": [
    "It seems that back in time, one could not be a young girl and not married! ^^\n",
    "\n",
    "As for the mens, I do not have yet any interpretation! So let's apply those changes which are still better than replacing NaN with random numbers (I tried):"
   ]
  },
  {
   "cell_type": "code",
   "execution_count": 37,
   "metadata": {
    "collapsed": true
   },
   "outputs": [],
   "source": [
    "dataset.loc[(dataset['Name']=='Miss.') & (dataset['Parch']>0) & (dataset['Age'].isnull()), 'Age'] \\\n",
    "          = dataset.loc[(dataset['Name']=='Miss.') & (dataset['Parch']>0) & (dataset['Age']>0), 'Age'].mean()\n",
    "dataset.loc[(dataset['Name']=='Mr.') & (dataset['Parch']>0) & (dataset['Age'].isnull()), 'Age'] \\\n",
    "          = dataset.loc[(dataset['Name']=='Mr.') & (dataset['Parch']>0) & (dataset['Age']>0), 'Age'].mean()  "
   ]
  },
  {
   "cell_type": "markdown",
   "metadata": {},
   "source": [
    "We don't have any NaN left in our *Age* feature, so we can now slice *Age* into 2 categories as stated before:"
   ]
  },
  {
   "cell_type": "code",
   "execution_count": 38,
   "metadata": {
    "collapsed": true
   },
   "outputs": [],
   "source": [
    "# slice age in 2 categories\n",
    "dataset.loc[dataset['Age']<limits['child'], 'Age'] = 0\n",
    "dataset.loc[dataset['Age']>=limits['child'], 'Age'] = 1"
   ]
  },
  {
   "cell_type": "markdown",
   "metadata": {},
   "source": [
    "### Sibsp and Parch"
   ]
  },
  {
   "cell_type": "markdown",
   "metadata": {},
   "source": [
    "Both of those features are already nicely encoded:"
   ]
  },
  {
   "cell_type": "code",
   "execution_count": 39,
   "metadata": {},
   "outputs": [
    {
     "data": {
      "text/plain": [
       "[array([1, 0, 3, 4, 2, 5, 8]), array([0, 1, 2, 5, 3, 4, 6])]"
      ]
     },
     "execution_count": 39,
     "metadata": {},
     "output_type": "execute_result"
    }
   ],
   "source": [
    "[dataset['SibSp'].unique(), data['Parch'].unique()]"
   ]
  },
  {
   "cell_type": "markdown",
   "metadata": {},
   "source": [
    "Let's check now the influence of passenger's number of sisters/brothers (*SibSp*) and parents/child (*Parch*) on survival chances:"
   ]
  },
  {
   "cell_type": "code",
   "execution_count": 40,
   "metadata": {},
   "outputs": [
    {
     "data": {
      "text/plain": [
       "<matplotlib.legend.Legend at 0x7f0a867c7a58>"
      ]
     },
     "execution_count": 40,
     "metadata": {},
     "output_type": "execute_result"
    },
    {
     "data": {
      "image/png": "[encoded data removed]",
      "text/plain": [
       "<matplotlib.figure.Figure at 0x7f0a85e62da0>"
      ]
     },
     "metadata": {},
     "output_type": "display_data"
    }
   ],
   "source": [
    "f, axarr = plt.subplots(1, 2,figsize=(12, 4))\n",
    "binBoundaries = np.linspace(0,9,10)\n",
    "\n",
    "x0 = dataset.loc[dataset['Survived']==0,'SibSp']\n",
    "y0 = dataset.loc[dataset['Survived']==1,'SibSp']\n",
    "axarr[0].hist([x0,y0], bins=binBoundaries, log=False, color=['r','g'], alpha=0.75);\n",
    "axarr[0].set_title('SibSp')\n",
    "axarr[0].legend(['Dead','Alive'],loc=0,prop={'size': 15})\n",
    "\n",
    "x1 = dataset.loc[dataset['Survived']==0,'Parch']\n",
    "y1 = dataset.loc[dataset['Survived']==1,'Parch']\n",
    "axarr[1].hist([x1,y1], bins=binBoundaries, log=False, color=['r','g'], alpha=0.75);\n",
    "axarr[1].set_title('Parch')\n",
    "axarr[1].legend(['Dead','Alive'],loc=0,prop={'size': 15})"
   ]
  },
  {
   "cell_type": "markdown",
   "metadata": {},
   "source": [
    "Those 2 features seems to behave in a quite similar way at first glance. We will dig this a bit deeper but we already can see that we will have to compress both, as most of the possibilities doesn't have a relevant statistic. One typically should keep 0, 1 and everything above 1 in a third category for *SibSp*. We might also keep 2 as the ratio dead/survived is below the average. For *Parch*, we should keep 0, 1, 2 and create another category for everything above.\n",
    "\n",
    "Let's check their mutual dependence before drawing any conclusion. We will plot the *SibSp* dead/survived distribution for 4 slices of *Parch*, the last slice being the concatenation of *Parch*>=3:"
   ]
  },
  {
   "cell_type": "code",
   "execution_count": 41,
   "metadata": {},
   "outputs": [
    {
     "data": {
      "text/plain": [
       "<matplotlib.legend.Legend at 0x7f0a86cd07f0>"
      ]
     },
     "execution_count": 41,
     "metadata": {},
     "output_type": "execute_result"
    },
    {
     "data": {
      "image/png": "[encoded data removed]",
      "text/plain": [
       "<matplotlib.figure.Figure at 0x7f0a85d0add8>"
      ]
     },
     "metadata": {},
     "output_type": "display_data"
    }
   ],
   "source": [
    "f, axarr = plt.subplots(2, 2,figsize=(14, 6))\n",
    "binBoundaries = np.linspace(0,9,10)\n",
    "\n",
    "x0 = dataset.loc[(dataset['Survived']==0) & (dataset['Parch']==0),'SibSp']\n",
    "y0 = dataset.loc[(dataset['Survived']==1) & (dataset['Parch']==0),'SibSp']\n",
    "axarr[0,0].hist([x0,y0], bins=binBoundaries, log=False, color=['r','g'], alpha=0.75);\n",
    "axarr[0,0].set_title('Parch = 0')\n",
    "axarr[0,0].legend(['Dead','Alive'],loc=0,prop={'size': 15})\n",
    "\n",
    "x1 = dataset.loc[(dataset['Survived']==0) & (dataset['Parch']==1),'SibSp']\n",
    "y1 = dataset.loc[(dataset['Survived']==1) & (dataset['Parch']==1),'SibSp']\n",
    "axarr[0,1].hist([x1,y1], bins=binBoundaries, log=False, color=['r','g'], alpha=0.75);\n",
    "axarr[0,1].set_title('Parch = 1')\n",
    "axarr[0,1].legend(['Dead','Alive'],loc=0,prop={'size': 15})\n",
    "\n",
    "x2 = dataset.loc[(dataset['Survived']==0) & (dataset['Parch']==2),'SibSp']\n",
    "y2 = dataset.loc[(dataset['Survived']==1) & (dataset['Parch']==2),'SibSp']\n",
    "axarr[1,0].hist([x2,y2], bins=binBoundaries, log=False, color=['r','g'], alpha=0.75);\n",
    "axarr[1,0].set_title('Parch = 2')\n",
    "axarr[1,0].legend(['Dead','Alive'],loc=0,prop={'size': 15})\n",
    "\n",
    "x3 = dataset.loc[(dataset['Survived']==0) & (dataset['Parch']>=3),'SibSp']\n",
    "y3 = dataset.loc[(dataset['Survived']==1) & (dataset['Parch']>=3),'SibSp']\n",
    "axarr[1,1].hist([x3,y3], bins=binBoundaries, log=False, color=['r','g'], alpha=0.75);\n",
    "axarr[1,1].set_title('Parch = 3')\n",
    "axarr[1,1].legend(['Dead','Alive'],loc=0,prop={'size': 15})"
   ]
  },
  {
   "cell_type": "markdown",
   "metadata": {
    "collapsed": true
   },
   "source": [
    "Simply adding *SibSp* to *Parch* will not work much better than keeping those 2 features as they are. But we might build a new feature built on particular combinations of those 2, which we will call *Relatives*. We can see from the figure above several regions with different behavior (number of data entries for a given combination has also been taken into account to decide wether one should consider it as a region or not):\n",
    "\n",
    "- *Parch*=0 and *SibSp*=0\n",
    "- *Parch*=0 and *SibSp*=1\n",
    "- *Parch*=0 and *SibSp*>=2\n",
    "- *Parch*=1 and *SibSp*<=2\n",
    "- *Parch*=1 and *SibSp*>=3\n",
    "- *Parch*=2 and *SibSp*<=1\n",
    "- *Parch*=2 and *SibSp*>=2\n",
    "- *Parch*>=3\n",
    "\n",
    "From there we have 2 possibilities. Either we create a separate category for each, either we group those regions by similar behaviour. The last has the merit to span less categories, which mean our model will be less prone to overfitting, at the possible cost of a better modeling. We will choose this one has I encounters much more overfitting problems than underfittings problems for this dataset. We build our *Relatives* categories as follows:\n",
    "\n",
    "- *Relatives* = 0 : (*Parch*=0 , *SibSp*=0) + (*Parch*=0 , *SibSp*>=2) + (*Parch*=1 , *SibSp*>=3) + (*Parch*=2 , *SibSp*>=2) + (*Parch*>=3)\n",
    "- *Relatives* = 1 : (*Parch*=0 , *SibSp*=1) + (*Parch*=1 , *SibSp*<=2) + (*Parch*=2 , *SibSp*<=1)\n",
    "\n",
    "We can of course refine this feature by changing or adding new combinations. Since we added a *Relatives* column to our dataframe initialzed with 0, we just need to fill the 1 accordingly to the previous rules:"
   ]
  },
  {
   "cell_type": "code",
   "execution_count": 42,
   "metadata": {},
   "outputs": [],
   "source": [
    "# Adds a Relatives column\n",
    "dataset = dataset.assign(Relatives=pd.Series(np.zeros(len(dataset),dtype=int)).values)\n",
    "\n",
    "# Relatives:  fill it depending on SibSp and Parch combination:\n",
    "dataset.loc[(dataset['Parch']==0) & (dataset['SibSp']==1), 'Relatives'] = 1\n",
    "dataset.loc[(dataset['Parch']==1) & (dataset['SibSp']<=2), 'Relatives'] = 1\n",
    "dataset.loc[(dataset['Parch']==2) & (dataset['SibSp']<=1), 'Relatives'] = 1"
   ]
  },
  {
   "cell_type": "markdown",
   "metadata": {},
   "source": [
    "## Results"
   ]
  },
  {
   "cell_type": "markdown",
   "metadata": {},
   "source": [
    "There are a lots of models that can be used. I personnally tested under Scikit-Learn a Support Vector Machine, a k-Nearest Neighbour, a Logistic Regression, and a Decision Tree. I set their parameters when needed using a grid search fed by data from a stratified 10-times repeated 5-fold. I also tried an ensemble method and averaged the results from differents models after their training.\n",
    "\n",
    "Overall, I had the best results using the simpliest models, that's to say the separate models afored-mentioned. I could consistently hit 78.9% accuracy on the test set provided for all those models. It sometimes required some adjustments to the features (particularly for the Logistic Regression). I finally stayed on the first model I tried, the Support Vector Classifier, which produced the most consistent results across all the features changes. Let's be honest, it is not a great result, many people could hit higher scores. It could mean either I didn't use the right models (unlikely since most of the best scores are fom Decision Trees in this competition), either there is more feature engineering to do.\n",
    "\n",
    "At this stage, we have 5 features (3 of them being binary) split across 10 categories in total. The total number of states for a given input is precisely 96, that's to say about one order of magnitude below the number of data we have. We thus can reasonably hope that each of our combinations is populated by our training set, but with a fairly low statistic, still.\n",
    "\n",
    "The full code can be found on my github page. The purpose of this challenge was for me to do my first Machine Learning work, and my first Python script, that's why I stopped here to move on something else. I hope this will help newcomers to get into the data analysis. I also hope they will be able to push higher scores!"
   ]
  },
  {
   "cell_type": "code",
   "execution_count": null,
   "metadata": {
    "collapsed": true
   },
   "outputs": [],
   "source": []
  }
 ],
 "metadata": {
  "kernelspec": {
   "display_name": "Python 3",
   "language": "python",
   "name": "python3"
  },
  "language_info": {
   "codemirror_mode": {
    "name": "ipython",
    "version": 3
   },
   "file_extension": ".py",
   "mimetype": "text/x-python",
   "name": "python",
   "nbconvert_exporter": "python",
   "pygments_lexer": "ipython3",
   "version": "3.6.2"
  }
 },
 "nbformat": 4,
 "nbformat_minor": 2
}
